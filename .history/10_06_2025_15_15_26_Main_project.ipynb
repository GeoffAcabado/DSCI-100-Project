{
 "cells": [
  {
   "cell_type": "markdown",
   "id": "41625f46-54af-46ab-ae4d-8000b746a558",
   "metadata": {},
   "source": [
    "# DSCI 100 Term Project\n",
    "- name: Geoff Acabado\n",
    "- student number: 59285189"
   ]
  },
  {
   "cell_type": "markdown",
   "id": "c26a74eb-11df-4e47-af3f-f7e1a4cf7a80",
   "metadata": {},
   "source": [
    "## Familiarization\n",
    "For this project, we will be looking how does different player characteristics correlate to thir probability of being subscribed to a game news paper."
   ]
  },
  {
   "cell_type": "code",
   "execution_count": null,
   "id": "bc9012e8-dd8d-420a-a71f-e35efbf666cf",
   "metadata": {},
   "outputs": [],
   "source": [
    "#Some libraries to install\n",
    "library(repr)\n",
    "library(tidyverse)\n",
    "library(tidymodels)\n",
    "options(repr.matrix.max.rows = 10)\n",
    "set.seed(9999)"
   ]
  },
  {
   "cell_type": "markdown",
   "id": "4b0fb294-76c6-48f3-a756-98a1978cab2e",
   "metadata": {},
   "source": [
    "### Tidying the data"
   ]
  },
  {
   "cell_type": "code",
   "execution_count": null,
   "id": "418b0051-330b-45df-a208-7c660caf09d0",
   "metadata": {},
   "outputs": [],
   "source": [
    "# install the data needed\n",
    "player_data = read_csv(\"players.csv\")\n",
    "player_data\n",
    "\n"
   ]
  },
  {
   "cell_type": "markdown",
   "id": "71ed8874-e9ff-40ca-b1ae-50159ad6110c",
   "metadata": {},
   "source": [
    "### Data explorations"
   ]
  },
  {
   "cell_type": "code",
   "execution_count": null,
   "id": "cd2976c3-1bf7-43cb-8146-bfb443339bbd",
   "metadata": {},
   "outputs": [],
   "source": [
    "#Lets explore relationships between hours played, age and whether they are subscibed to game newspaper\n",
    "player_plot_1 = player_data |>\n",
    "    ggplot(aes(y = played_hours\t, x = Age, color = subscribe)) +\n",
    "    geom_point() +\n",
    "    scale_y_log10() +\n",
    "    labs(\n",
    "        title = \"Hours played Vs Age of Player\",\n",
    "        y = \"Hours played by player (logarithmic scale)\",\n",
    "        x = \"Age of player\",\n",
    "        colour = \"Player is subscribed\" )\n",
    "player_plot_1"
   ]
  },
  {
   "cell_type": "markdown",
   "id": "da9b10ea-e463-4a97-ac93-9441cbd479c4",
   "metadata": {},
   "source": [
    "#### Figure 1.1 \n",
    "From the figure above, it is easy to see that there are no obvious pattern between between hours played by the player and their age. Both variables also do not seem to be correlated with whether the players are subscribed or not. It is intersting to see however that everyone who played for 10 hours or more are all subscribed to a game newspaper. Another observation we see is that most players are arround 20 years old indicating that this is minecraft is popular among this demographic"
   ]
  },
  {
   "cell_type": "markdown",
   "id": "049fcf31-b3d7-42b6-803a-784707ab74c5",
   "metadata": {},
   "source": [
    "### Data Analysis Plan"
   ]
  },
  {
   "cell_type": "markdown",
   "id": "b4e8d833-aabf-49fa-b837-65b83f5ca7ee",
   "metadata": {},
   "source": [
    "- Build a classification model that lets us categorize a player according to whether or not they are subscribed in a gaming newspaper\n",
    "- Use their hours played in the game as well as their age as predictors\n",
    "- Split the data into training and testing data\n",
    "- Use a k-nn algorythm with a 5 fold cross validation to verify what the best K-value should be. \n",
    "- A K value that will give highest accuracy when used on testing data will be used to build the final model\n",
    "- Use different metrics such as accuracy, precision, and recall to determine if data is useful in real world"
   ]
  },
  {
   "cell_type": "markdown",
   "id": "49c7eb57-ca88-4228-aed2-bfb2d29d57c6",
   "metadata": {},
   "source": [
    "### Model Tuning"
   ]
  },
  {
   "cell_type": "code",
   "execution_count": null,
   "id": "7db92bc5-b7d2-4c76-bb58-761e47d62a77",
   "metadata": {},
   "outputs": [],
   "source": [
    "# Clean up data\n",
    "player_data_clean = player_data |>\n",
    "    select(subscribe, played_hours, Age) |>\n",
    "    mutate(subscribe = as.factor(subscribe))\n",
    "\n",
    "#split the data\n",
    "player_data_split = initial_split(player_data_clean, prop = 0.7, strata = subscribe)\n",
    "player_data_training = training(player_data_split)\n",
    "player_data_testing = testing(player_data_split)\n",
    "\n",
    "# Tuning the model with 5 fold cross validation\n",
    "player_data_vfold = vfold_cv(player_data_training, v = 5, strata = subscribe)\n",
    "\n",
    "#make recipe\n",
    "player_data_recipe = recipe(subscribe ~., data = player_data_training) |>\n",
    "    step_scale(all_predictors()) |>\n",
    "    step_center(all_predictors())\n",
    "\n",
    "#Tune model\n",
    "knn_spec = nearest_neighbor(weight_func = \"rectangular\", neighbors = tune()) |>\n",
    "    set_engine(\"kknn\") |>\n",
    "    set_mode(\"classification\")\n",
    "\n",
    "#Get results\n",
    "k_vals = tibble(neighbors = 1:25)\n",
    "knn_results = workflow() |>\n",
    "    add_recipe(player_data_recipe) |>\n",
    "    add_model(knn_spec) |>\n",
    "    tune_grid(resamples = player_data_vfold, grid = k_vals) |>\n",
    "    collect_metrics() |>\n",
    "    filter(.metric == \"accuracy\", !is.na(mean))\n",
    "\n",
    "knn_results_plot = knn_results |>\n",
    "    ggplot(aes(x = neighbors, y = mean)) +\n",
    "    geom_point() +\n",
    "    geom_line() +\n",
    "    labs(x = \"Nearest Neighbor\" , y = \"Mean Accuracy\")+\n",
    "    theme(text = element_text(size  = 12))\n",
    "knn_results_plot"
   ]
  },
  {
   "cell_type": "markdown",
   "id": "e1e3f94d-fdda-43b2-8d38-b763f7a20910",
   "metadata": {},
   "source": [
    "#### Figure 1.2\n",
    "This graph shows mean accuracy for different values of K. We see that there is a local maximum at K = 5 and 6 which are probably the best K for this data set. We see that after K = 12, the accuracy increases again but that is probably just because there are a lot more people subscribed than not subscribed to news paper. As K increaases, the alogrythm will just classify any point as \"TRUE\" which results in high accuracy but is not very useful in this context."
   ]
  },
  {
   "cell_type": "markdown",
   "id": "40e62339-129b-4750-8531-1b02fe85fd14",
   "metadata": {},
   "source": [
    "### Final Model Building and Evaluation"
   ]
  },
  {
   "cell_type": "code",
   "execution_count": null,
   "id": "2fb01e38-0307-42c9-8f98-7eb2ed66578b",
   "metadata": {},
   "outputs": [],
   "source": [
    "# Create final mode\n",
    "final_spec = nearest_neighbor(weight_func = \"rectangular\", neighbors = 5) |>\n",
    "  set_engine(\"kknn\") |>\n",
    "  set_mode(\"classification\")\n",
    "\n",
    "final_fit <- workflow() |>\n",
    "    add_recipe(player_data_recipe) |>\n",
    "    add_model(final_spec) |>\n",
    "    fit(data = player_data_training)\n",
    "\n",
    "\n",
    "#Evaluate final model\n",
    "test_predictions <- predict(final_fit, player_data_testing) |>\n",
    "  bind_cols(player_data_testing)\n",
    "\n",
    "# Step 2: Calculate evaluation metrics\n",
    "eval_metrics <- bind_rows(\n",
    "  accuracy(test_predictions, truth = subscribe, estimate = .pred_class),\n",
    "  precision(test_predictions, truth = subscribe, estimate = .pred_class),\n",
    "  recall(test_predictions, truth = subscribe, estimate = .pred_class),\n",
    ")\n",
    "\n",
    "eval_metrics\n"
   ]
  },
  {
   "cell_type": "markdown",
   "id": "61351be9-6577-404f-923a-c093c068fce5",
   "metadata": {},
   "source": [
    "#### Discussion\n"
   ]
  },
  {
   "cell_type": "markdown",
   "id": "16cc4c4e-30ab-4484-bf2e-f8c7d8307285",
   "metadata": {},
   "source": [
    "### Discussion and Improvements "
   ]
  },
  {
   "cell_type": "markdown",
   "id": "cb2e34eb-d135-467f-a135-29f0f4844e36",
   "metadata": {},
   "source": [
    "### Conclusions"
   ]
  }
 ],
 "metadata": {
  "kernelspec": {
   "display_name": "R",
   "language": "R",
   "name": "ir"
  },
  "language_info": {
   "codemirror_mode": "r",
   "file_extension": ".r",
   "mimetype": "text/x-r-source",
   "name": "R",
   "pygments_lexer": "r",
   "version": "4.3.3"
  }
 },
 "nbformat": 4,
 "nbformat_minor": 5
}

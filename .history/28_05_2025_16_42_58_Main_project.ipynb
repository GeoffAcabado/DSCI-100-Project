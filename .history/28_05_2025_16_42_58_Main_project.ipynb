{
 "cells": [
  {
   "cell_type": "markdown",
   "id": "41625f46-54af-46ab-ae4d-8000b746a558",
   "metadata": {},
   "source": [
    "# DSCI 100 Term Project\n",
    "- name: Geoff Acabado\n",
    "- student number: 59285189"
   ]
  },
  {
   "cell_type": "markdown",
   "id": "c26a74eb-11df-4e47-af3f-f7e1a4cf7a80",
   "metadata": {},
   "source": [
    "## Familiarization\n",
    "For this project, we will be looking how does different player characteristics correlate to thir probability of being subscribed to a game news paper."
   ]
  },
  {
   "cell_type": "markdown",
   "id": "4b0fb294-76c6-48f3-a756-98a1978cab2e",
   "metadata": {},
   "source": [
    "### Tidying the data"
   ]
  },
  {
   "cell_type": "code",
   "execution_count": null,
   "id": "418b0051-330b-45df-a208-7c660caf09d0",
   "metadata": {},
   "outputs": [],
   "source": [
    "# instal tidyverse package\n",
    "library(tidyverse)\n",
    "\n",
    "# this lines show only 6 rows for a dataframe\n",
    "options(repr.matrix.max.rows = 6)\n",
    "\n",
    "# install the data needed\n",
    "player_data = read_csv(\"players.csv\")\n",
    "#player_data"
   ]
  },
  {
   "cell_type": "markdown",
   "id": "71ed8874-e9ff-40ca-b1ae-50159ad6110c",
   "metadata": {},
   "source": [
    "### Data explorations"
   ]
  },
  {
   "cell_type": "markdown",
   "id": "049fcf31-b3d7-42b6-803a-784707ab74c5",
   "metadata": {},
   "source": [
    "### Data Analysis"
   ]
  },
  {
   "cell_type": "markdown",
   "id": "16cc4c4e-30ab-4484-bf2e-f8c7d8307285",
   "metadata": {},
   "source": [
    "### Improvements "
   ]
  },
  {
   "cell_type": "markdown",
   "id": "cb2e34eb-d135-467f-a135-29f0f4844e36",
   "metadata": {},
   "source": [
    "### Conclusions"
   ]
  },
  {
   "cell_type": "code",
   "execution_count": null,
   "id": "00833c31-768a-4bef-b392-4dc0bf18ccc7",
   "metadata": {},
   "outputs": [],
   "source": []
  }
 ],
 "metadata": {
  "kernelspec": {
   "display_name": "R",
   "language": "R",
   "name": "ir"
  },
  "language_info": {
   "codemirror_mode": "r",
   "file_extension": ".r",
   "mimetype": "text/x-r-source",
   "name": "R",
   "pygments_lexer": "r",
   "version": "4.3.3"
  }
 },
 "nbformat": 4,
 "nbformat_minor": 5
}

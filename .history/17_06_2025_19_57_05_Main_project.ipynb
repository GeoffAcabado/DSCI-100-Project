{
 "cells": [
  {
   "cell_type": "markdown",
   "id": "8258680c-44f1-4932-a711-15b187c61013",
   "metadata": {},
   "source": [
    "# Data Science Term Project"
   ]
  },
  {
   "cell_type": "markdown",
   "id": "41625f46-54af-46ab-ae4d-8000b746a558",
   "metadata": {},
   "source": [
    "## A K-NN Approach to Predicting Newsletter Subscription Among Minecraft Players Based on Age and Playtime \n"
   ]
  },
  {
   "cell_type": "markdown",
   "id": "70dc1487-dcf2-4078-bc92-e4041bd58bac",
   "metadata": {},
   "source": [
    "- Name: Geoff Acabado\n",
    "- Student number: 59285189\n",
    "- DSCI 100 003"
   ]
  },
  {
   "cell_type": "markdown",
   "id": "c26a74eb-11df-4e47-af3f-f7e1a4cf7a80",
   "metadata": {},
   "source": [
    "## I. Introduction\n",
    "Video games have become a widespread form of entertainment, attracting millions of players across diverse demographics [1]. Minecraft stands out as one of the most popular sandbox games, offering an open-ended world where players can build, explore, and interact [2]. In addition to being a popular game, Minecraft provides a rich source of behavioral data that can be leveraged for research in areas such as player engagement, user behavior analysis, and targeted marketing. \n",
    "\n",
    "In this project, we analyze gameplay data collected from a Minecraft research server hosted by a research group at the University of British Columbia (UBC). The group collected detailed logs of player behavior as participants interact with the game world. This data includes various features such as age, playtime, and whether or not a player has subscribed to a newsletter related to the game. \n",
    "\n",
    "By applying data science techniques to this data, we aim to explore whether certain player characteristics, specifically, age and amount of playtime, can be used to predict whether a player subscribes to the game-related newsletter. These two variables were chosen to be the explanatory variables that will train the classification model because they are the only numeric variables in the datasets provided. The insights from this analysis can assist the research team in better understanding the factors that drive player engagement and inform future recruitment and resource allocation strategies. **Table 1.1** shows each of the variables in the player.csv dataset and what do they mean. "
   ]
  },
  {
   "cell_type": "markdown",
   "id": "b58524f4-fbc6-4657-bbd7-e7b7c771c597",
   "metadata": {},
   "source": [
    "| Variable     | Type          | Description                                                                 |\n",
    "|--------------|---------------|-----------------------------------------------------------------------------|\n",
    "| Experience   | factor         | Experience level of player: beginner, amateur, regular, pro, veteran        |\n",
    "| subscribe    | logical        | Whether the player is subscribed (TRUE/FALSE)                               |\n",
    "| hashedEmail  | character      | Hashed email of player to protect privacy                                   |\n",
    "| played_hours | double         | Number of hours played by players                                           |\n",
    "| name         | character      | Name of the player                                                          |\n",
    "| gender       | factor         | Gender identity: agender, male, female, non-binary, two-spirited, prefer not to say |\n",
    "| Age          | double         | Age of the player in years                                                  |\n",
    "\n",
    "**Table 1.1**\n",
    "\n",
    "The table below shows a complete list of all the variables in the `player.csv` dataset used in this project."
   ]
  },
  {
   "cell_type": "markdown",
   "id": "49cbac1e-5195-4692-8422-9908b1eabf85",
   "metadata": {},
   "source": [
    "As mentioned before, the only numerical variables here are age and playtime. An additional dataset contains session-level start and end time but is not utilized in this analysis as the player experience provides sufficient information for addressing the research question. **Code 0.1** contains the libraries that will be used in this project and **Code 0.2** loads the data that will be analyzed. "
   ]
  },
  {
   "cell_type": "code",
   "execution_count": null,
   "id": "bc9012e8-dd8d-420a-a71f-e35efbf666cf",
   "metadata": {},
   "outputs": [],
   "source": [
    "#code 0.1\n",
    "#Some libraries to install\n",
    "library(repr)\n",
    "library(tidyverse)\n",
    "library(tidymodels)\n",
    "options(repr.matrix.max.rows = 10)\n",
    "\n",
    "# We need to set this seed so that all results in this notebook can be replicated\n",
    "set.seed(9999)"
   ]
  },
  {
   "cell_type": "code",
   "execution_count": null,
   "id": "418b0051-330b-45df-a208-7c660caf09d0",
   "metadata": {},
   "outputs": [],
   "source": [
    "#Code 0.2\n",
    "# install the data needed\n",
    "player_data = read_csv(\"players.csv\")\n",
    "player_data"
   ]
  },
  {
   "cell_type": "markdown",
   "id": "71ed8874-e9ff-40ca-b1ae-50159ad6110c",
   "metadata": {},
   "source": [
    "### Data explorations"
   ]
  },
  {
   "cell_type": "code",
   "execution_count": null,
   "id": "4f4cc891-9ddb-4e91-9809-ca139a1da8f1",
   "metadata": {},
   "outputs": [],
   "source": [
    "#Code 1.1\n",
    "#Lets explore relationships between hours played, age and whether they are subscibed to game newspaper\n",
    "options(repr.plot.height = 7, repr.plot.width = 10)\n",
    "player_plot = player_data |>\n",
    "    ggplot(aes(y = played_hours\t, x = Age, color = subscribe)) +\n",
    "    geom_point() +\n",
    "    labs(\n",
    "        title = \"Hours played Vs Age of Player\",\n",
    "        y = \"Hours played by player\",\n",
    "        x = \"Age of player (Years)\",\n",
    "        colour = \"Player is subscribed\" ) +\n",
    "    theme(text = element_text(size = 16), plot.title = element_text(hjust = 0.5))\n",
    "player_plot"
   ]
  },
  {
   "cell_type": "markdown",
   "id": "1c4cd255-d2f7-47cd-99b2-6abf28fec8af",
   "metadata": {},
   "source": [
    "**Figure 1.1**\n",
    "\n",
    "The plot above shows the relationship between the age of the player on the x-axis and the number of hours they have played Minecraft on the y-axis. Game-related newspaper subscriptions of each player are represented by the color of the points. Two datapoints are removed because the age of the player is unknown. "
   ]
  },
  {
   "cell_type": "markdown",
   "id": "252d0133-18a6-4506-bbb2-c553d440b82c",
   "metadata": {},
   "source": [
    "The code above gave us a warning message indicating that there are 2 datapoints that have missing values or are out of range. In **code 1.15**, we show that these observations have unknown age and so were excluded from the ploting. One can see from **Figure 1.1** that most of the datapoints consist of players playing little to 0 hours in the game, making it difficult to make any inferences from the data. For this reason, the data was plotted on a logarithmic scale in **Figure 1.2** to magnify the subtleties in low values of hours played. "
   ]
  },
  {
   "cell_type": "code",
   "execution_count": null,
   "id": "e10ee69e-61a2-4b56-97f4-bb9ebcf5cb4d",
   "metadata": {},
   "outputs": [],
   "source": [
    "#Code 1.15\n",
    "missing_values = player_data |>\n",
    "    filter(is.na(Age))\n",
    "missing_values"
   ]
  },
  {
   "cell_type": "code",
   "execution_count": null,
   "id": "cd2976c3-1bf7-43cb-8146-bfb443339bbd",
   "metadata": {},
   "outputs": [],
   "source": [
    "#Code 1.2\n",
    "#Lets explore relationships between hours played, age and whether they are subscibed to game newspaper\n",
    "player_plot_1 = player_data |>\n",
    "    ggplot(aes(y = played_hours\t, x = Age, color = subscribe)) +\n",
    "    geom_point() +\n",
    "    scale_y_log10() +\n",
    "    labs(\n",
    "        title = \"Scaled Hours played Vs Age of Player\",\n",
    "        y = \"Hours played by player (lograithmic scale)\",\n",
    "        x = \"Age of player (Years)\",\n",
    "        colour = \"Player is subscribed\" ) +\n",
    "    theme(text = element_text(size = 15), plot.title = element_text(hjust = 0.5))\n",
    "player_plot_1\n",
    "\n"
   ]
  },
  {
   "cell_type": "markdown",
   "id": "da9b10ea-e463-4a97-ac93-9441cbd479c4",
   "metadata": {},
   "source": [
    "**Figure 1.2**\n",
    "\n",
    "The scatter plot above shows the age of each player in the x-axis and the hours played on the y-axis but logarithmically scaled to show subtilities across different ranges. "
   ]
  },
  {
   "cell_type": "markdown",
   "id": "93610b91-95ae-46e1-9e95-e7a7df21c1b7",
   "metadata": {},
   "source": [
    "There was a warning that the logarithmic transformation turned the some 0s to infinity but it looks like it did not affect the purpose of our visualization that much. All of the supposedly 'negatively infinite' values remained at the bottom of the graph. From Figure 1.2, it can be easily observed that there is no obvious pattern between hours played by the player and their age. Both variables also do not seem to be correlated with whether the players are subscribed or not. However, it is important to notice that everyone who played for 10 hours or more is subscribed to a game newspaper. Another observation we see is that most players are around 15 to 25 years old, indicating that Minecraft is popular among this demographic"
   ]
  },
  {
   "cell_type": "markdown",
   "id": "49c7eb57-ca88-4228-aed2-bfb2d29d57c6",
   "metadata": {},
   "source": [
    "### II. Methods"
   ]
  },
  {
   "cell_type": "markdown",
   "id": "9f205b2e-e1aa-46b6-84d5-7b9716ed84e3",
   "metadata": {},
   "source": [
    "The objective of this analysis is to build a classification model capable of predicting whether a player is subscribed to a gaming newspaper based on two predictor variables: the player’s total hours played (played_hours) and their age (Age). The response variable, subscribe, is a binary categorical variable indicating subscription status."
   ]
  },
  {
   "cell_type": "code",
   "execution_count": null,
   "id": "7db92bc5-b7d2-4c76-bb58-761e47d62a77",
   "metadata": {},
   "outputs": [],
   "source": [
    "#Code 2.1\n",
    "# Clean up data\n",
    "player_data_clean = player_data |>\n",
    "    select(subscribe, played_hours, Age) |>\n",
    "    mutate(subscribe = as.factor(subscribe))"
   ]
  },
  {
   "cell_type": "markdown",
   "id": "73095d18-70e2-4c2f-924f-7f8bb8a413c4",
   "metadata": {},
   "source": [
    "The data was first loaded and cleaned to retain only the relevant variables necessary for analysis. As shown in **Code 2.1**, we selected subscribe, played_hours, and Age from the original dataset. Since the classification model requires a categorical response variable, the subscribe column was converted into a factor. This ensured that the subsequent modeling functions would treat it appropriately as a classification target rather than a continuous variable. "
   ]
  },
  {
   "cell_type": "code",
   "execution_count": null,
   "id": "2862df30-fe87-4736-b6b1-da243bbecd40",
   "metadata": {},
   "outputs": [],
   "source": [
    "#Code 2.2\n",
    "#split the data\n",
    "player_data_split = initial_split(player_data_clean, prop = 0.7, strata = subscribe)\n",
    "player_data_training = training(player_data_split)\n",
    "player_data_testing = testing(player_data_split)"
   ]
  },
  {
   "cell_type": "markdown",
   "id": "82e2dafd-2507-40b8-81f9-a13a10ffb804",
   "metadata": {},
   "source": [
    "After cleaning the data, we partitioned the dataset into training and testing subsets to enable model evaluation of unseen data. Specifically, 70% of the data was randomly assigned to the training set, while the remaining 30% was reserved for testing **(Code 2.2)**. Stratified sampling was applied based on the subscribe variable to ensure that both classes were proportionally represented in each subset. This stratification helps prevent class imbalance from skewing model evaluation. "
   ]
  },
  {
   "cell_type": "code",
   "execution_count": null,
   "id": "65276602-7d77-47a8-b9ed-4217ba5d6a79",
   "metadata": {},
   "outputs": [],
   "source": [
    "#Code 2.3\n",
    "# Tuning the model with 5 fold cross validation\n",
    "player_data_vfold = vfold_cv(player_data_training, v = 5, strata = subscribe)"
   ]
  },
  {
   "cell_type": "markdown",
   "id": "a630af5f-d646-4d02-9992-304f0aca546b",
   "metadata": {},
   "source": [
    "To optimize model performance, we used k-nearest neighbors (k-NN) classification, a non-parametric method well-suited for small- to medium-sized datasets with numeric predictors. To identify the optimal value of K, we applied five-fold cross-validation to the training set **(Code 2.3)**. The training data was randomly divided into five equal folds; during each iteration, one fold was used for validation while the remaining folds were used for training. This process was repeated five times, ensuring that each fold served as validation once."
   ]
  },
  {
   "cell_type": "code",
   "execution_count": null,
   "id": "02302ad2-4787-41d6-949b-2e4ffa130603",
   "metadata": {},
   "outputs": [],
   "source": [
    "#Code 2.4\n",
    "#make recipe\n",
    "player_data_recipe = recipe(subscribe ~., data = player_data_training) |>\n",
    "    step_scale(all_predictors()) |>\n",
    "    step_center(all_predictors())"
   ]
  },
  {
   "cell_type": "markdown",
   "id": "b5a83351-6498-4ca2-ac35-d71b82523e50",
   "metadata": {},
   "source": [
    "Prior to modeling, the data was preprocessed using a recipe object in R **(Code 2.4)**. As k-NN is sensitive to the scale of the input features, both played_hours and Age were standardized via centering (subtracting the mean) and scaling (dividing by the standard deviation). This preprocessing step ensures that both predictors contribute equally to the distance calculations that underlie the k-NN algorithm. "
   ]
  },
  {
   "cell_type": "code",
   "execution_count": null,
   "id": "93088a90-db27-4f3c-a75a-f71abca3637a",
   "metadata": {},
   "outputs": [],
   "source": [
    "#Code 2.5\n",
    "#Tune model\n",
    "knn_spec = nearest_neighbor(weight_func = \"rectangular\", neighbors = tune()) |>\n",
    "    set_engine(\"kknn\") |>\n",
    "    set_mode(\"classification\")"
   ]
  },
  {
   "cell_type": "code",
   "execution_count": null,
   "id": "48038c37-775e-4676-b00c-97db90f69505",
   "metadata": {},
   "outputs": [],
   "source": [
    "#Code 2.6\n",
    "#Get results\n",
    "k_vals = tibble(neighbors = 1:25)\n",
    "knn_results = workflow() |>\n",
    "    add_recipe(player_data_recipe) |>\n",
    "    add_model(knn_spec) |>\n",
    "    tune_grid(resamples = player_data_vfold, grid = k_vals) |>\n",
    "    collect_metrics() |>\n",
    "    filter(.metric == \"accuracy\", !is.na(mean))"
   ]
  },
  {
   "cell_type": "markdown",
   "id": "b4bac215-6a84-485e-9703-985fd3289cb4",
   "metadata": {},
   "source": [
    "During hyperparameter tuning, warnings related to row mismatches were encountered when certain K values exceeded the number of available observations within some cross-validation folds. These cases were automatically handled by the tuning procedure, and valid results were obtained for all feasible parameter combinations. Therefore, these warnings did not affect the final analysis.We then specified a k-NN model using the tidymodels framework **(Code 2.5)**. The number of neighbors (k) was treated as a tuning parameter to be optimized. We defined a grid search over K values ranging from 1 to 25 and fit the model using cross-validation resamples **(Code 2.6)**. The grid search evaluated model accuracy for each K, allowing us to identify the value of K that maximizes classification accuracy. "
   ]
  },
  {
   "cell_type": "code",
   "execution_count": null,
   "id": "7b57112b-1ffa-4750-803b-b822a0ba784a",
   "metadata": {},
   "outputs": [],
   "source": [
    "#Code 2.7\n",
    "options(repr.plot.height = 7, repr.plot.width = 10)\n",
    "knn_results_plot = knn_results |>\n",
    "    ggplot(aes(x = neighbors, y = mean)) +\n",
    "    geom_point() +\n",
    "    geom_line() +\n",
    "    labs(x = \"Nearest Neighbor\" , \n",
    "         y = \"Mean Accuracy\", \n",
    "         title = \"K vs Mean Accuracy\")+\n",
    "    theme(text = element_text(size = 18), plot.title = element_text(hjust = 0.5))\n",
    "knn_results_plot"
   ]
  },
  {
   "cell_type": "markdown",
   "id": "e1e3f94d-fdda-43b2-8d38-b763f7a20910",
   "metadata": {},
   "source": [
    "**Figure 2.1**\n",
    "\n",
    "The graph above shows the mean accuracy of the model for each value of k that was used. "
   ]
  },
  {
   "cell_type": "markdown",
   "id": "5364cbbb-6d5a-4867-9e79-5e75a02d9f9c",
   "metadata": {},
   "source": [
    "The results of the tuning process were visualized in Figure 2.1 to aid in model selection. As shown in Code 2.7, we plotted the mean cross-validation accuracy for each K value. This plot enabled us to visually assess which K values yielded the highest accuracy, helping the selection for the optimal neighborhood size for the final model. We see that there is a local maximum at K = 5 to 8 (excluding k = 6), which is probably the best K for this data set. We see that after K = 10, the accuracy increases again but that is probably just because there are a lot more people subscribed than not subscribed to newspaper. As K increases, the algorithm will just classify any point as \"TRUE\" which results in high accuracy but is not very useful in this context. For such a reason, a value of k = 7 was chosen for the model. Finally, after selecting the optimal K value, the final model will be fit on the full training set and evaluated on the testing set using metrics such as accuracy, precision, and recall assessing its practical utility in real-world "
   ]
  },
  {
   "cell_type": "markdown",
   "id": "40e62339-129b-4750-8531-1b02fe85fd14",
   "metadata": {},
   "source": [
    "### III. Results"
   ]
  },
  {
   "cell_type": "code",
   "execution_count": null,
   "id": "2fb01e38-0307-42c9-8f98-7eb2ed66578b",
   "metadata": {},
   "outputs": [],
   "source": [
    "#Code 3.1\n",
    "# Create final model\n",
    "final_spec = nearest_neighbor(weight_func = \"rectangular\", neighbors = 7) |>\n",
    "  set_engine(\"kknn\") |>\n",
    "  set_mode(\"classification\")\n",
    "\n",
    "final_fit <- workflow() |>\n",
    "    add_recipe(player_data_recipe) |>\n",
    "    add_model(final_spec) |>\n",
    "    fit(data = player_data_training)"
   ]
  },
  {
   "cell_type": "markdown",
   "id": "f48a2d11-dd1b-4fd5-8954-71b45c3497ff",
   "metadata": {},
   "source": [
    "Using the results from the cross-validation tuning, we identified that a k value of 7 yielded the highest classification accuracy. We then built the final k-nearest neighbors classification model using this optimal value (Code 3.1). The model was trained on the full training dataset, incorporating the same preprocessing steps of centering and scaling the predictor variables."
   ]
  },
  {
   "cell_type": "code",
   "execution_count": null,
   "id": "26411800-23b1-44be-8f94-1991c6bc430e",
   "metadata": {},
   "outputs": [],
   "source": [
    "#Code 3.2\n",
    "#Evaluate final model\n",
    "test_predictions <- predict(final_fit, player_data_testing) |>\n",
    "  bind_cols(player_data_testing)"
   ]
  },
  {
   "cell_type": "markdown",
   "id": "f633742c-8d23-492e-82d7-de320b8067c6",
   "metadata": {},
   "source": []
  },
  {
   "cell_type": "code",
   "execution_count": null,
   "id": "a2064a7d-f11d-49f0-ab09-a9bfa0e27740",
   "metadata": {},
   "outputs": [],
   "source": [
    "#Code 3.3\n",
    "#print the different metrics to asses the overall quality of the model\n",
    "eval_metrics <- bind_rows(\n",
    "  accuracy(test_predictions, truth = subscribe, estimate = .pred_class),\n",
    "  precision(test_predictions, truth = subscribe, estimate = .pred_class),\n",
    "  recall(test_predictions, truth = subscribe, estimate = .pred_class),\n",
    ")\n",
    "\n",
    "eval_metrics"
   ]
  },
  {
   "cell_type": "markdown",
   "id": "b9f84552-ea00-41d1-a799-1af984c58256",
   "metadata": {},
   "source": [
    "Once trained, the final model was evaluated on the previously withheld testing dataset to assess its predictive performance on unseen data (Code 3.2). The model predictions were compared to the actual subscription status of the players, and three commonly used classification metrics were calculated: accuracy, precision, and recall (Code 3.3). Table 2.1 summarizes the results. "
   ]
  },
  {
   "cell_type": "markdown",
   "id": "73c52350-a3ad-4886-a5a7-61f617735551",
   "metadata": {},
   "source": [
    "\n",
    "| Metric    | Estimate |\n",
    "|-----------|----------|\n",
    "| accuracy  | 0.63     |\n",
    "| precision | 0.35     |\n",
    "| recall    | 0.48     |\n",
    "\n",
    "**Table 2.1**\n",
    "\n",
    "The table above shows a summary of the metrics used to assess the overall quality of the model. It contains calculated accuracy, precision, and recall of the model when applied to the testing dataset. "
   ]
  },
  {
   "cell_type": "markdown",
   "id": "16cc4c4e-30ab-4484-bf2e-f8c7d8307285",
   "metadata": {},
   "source": [
    "### IV. Discussion\n",
    "In this study, we developed a classification model to predict whether a player is subscribed to a gaming newspaper based on their age and hours played. After tuning the k-nearest neighbors (k-NN) algorithm using five-fold cross-validation, we identified that a k value of 7 provided the highest classification accuracy. When evaluated on the testing set, the final model achieved an accuracy of approximately 63.3%, with a precision of 35.0% and a recall of 43.8%. \n",
    "\n",
    "While the model demonstrated some ability to correctly classify subscription status, its moderate precision and recall indicate that its predictions are still limited. The accuracy slightly exceeds what would be expected by random guessing, suggesting that age and hours played contain some information relevant to subscription behavior. However, these two variables alone may not fully capture the complexity of a player's decision to subscribe. Many other unobserved factors such as personal interests, income, social influences, or engagement with game-related content may play a substantial role but are not included in the program. \n",
    "\n",
    "The choice of k-NN for this analysis was appropriate because the problem involved classifying observations into one of two categories based on continuous numeric predictors. k-NN makes minimal assumptions about the underlying data distribution, which is advantageous in cases where the true relationship between predictors and outcome may not be easily modeled parametrically. However, k-NN does have certain limitations: its performance can degrade with highly imbalanced classes or irrelevant predictors, and it is sensitive to the scaling of variables hence the need for preprocessing. Moreover, the method does not automatically provide insight into feature importance or underlying causal relationships. Cross-validation was essential to mitigate the risk of overfitting and ensure that the selected model generalized well to new data. \n",
    "\n",
    "The findings align partly with expectations: we anticipated that there may be some relationship between game engagement (hours played) and subscription behavior, but that predicting subscription status would likely be challenging with only these two predictors. The moderate performance metrics confirm this intuition. \n",
    "\n",
    "The potential impact of these findings suggests that while basic gameplay metrics like hours played and age can provide some predictive power, additional variables would be necessary to build a more robust subscription prediction model. This type of model could be useful for gaming companies or publishers interested in identifying which players might be receptive to subscription offers or targeted promotions. \n",
    "\n",
    "These results lead to several future questions. What additional variables might significantly improve predictive performance? Including features such as in-game purchase behavior, player retention, or social activity could strengthen the model. Furthermore, exploring other modeling approaches such as logistic regression or ensemble methods may yield better performance or offer more interpretable insights into the drivers of subscription behavior. Finally, future work could also investigate the temporal dimension, how changes in player behavior over time influence the likelihood of subscription.\n"
   ]
  },
  {
   "cell_type": "markdown",
   "id": "d988bd84-29c9-454d-b852-e1846651b938",
   "metadata": {},
   "source": [
    "### V. References\n",
    "[ 1] Atske, S., & Atske, S. (2024, May 9). Teens and video games today. Pew Research Center. https://www.pewresearch.org/internet/2024/05/09/teens-and-video-games-today/#:~:text=Playing%20video%20games%20is%20widespread,23%2C%202023. \n",
    "\n",
    "\n",
    "[2] Cipollone, Maria & Schifter, Catherine & Moffat, Rick. (2014). Minecraft as a Creative Tool: A Case Study. International Journal of Game-Based Learning. 4. 1-14. 10.4018/ijgbl.2014040101. "
   ]
  },
  {
   "cell_type": "code",
   "execution_count": null,
   "id": "c85cae60-1738-4bb1-a378-f6fabe37a6fb",
   "metadata": {},
   "outputs": [],
   "source": []
  }
 ],
 "metadata": {
  "kernelspec": {
   "display_name": "R",
   "language": "R",
   "name": "ir"
  },
  "language_info": {
   "codemirror_mode": "r",
   "file_extension": ".r",
   "mimetype": "text/x-r-source",
   "name": "R",
   "pygments_lexer": "r",
   "version": "4.3.3"
  }
 },
 "nbformat": 4,
 "nbformat_minor": 5
}

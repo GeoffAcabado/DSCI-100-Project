{
 "cells": [
  {
   "cell_type": "markdown",
   "id": "a817daae-ba8a-4e1f-b3a1-fb974f5cbe98",
   "metadata": {},
   "source": [
    "# Data Science Term Project"
   ]
  },
  {
   "cell_type": "markdown",
   "id": "5f113884-0c92-4bce-aa3c-e66bdd39c2fa",
   "metadata": {},
   "source": [
    "## Assessing Predictive Capabilities of Various Variables in Predicting Game Newspaper Subscription"
   ]
  },
  {
   "cell_type": "markdown",
   "id": "679bb7db-02fb-4cf2-904c-8df9b093f536",
   "metadata": {},
   "source": [
    "- Name: Geoff Acabado\n",
    "- Student number: 59285189\n",
    "- DSCI 100 003"
   ]
  },
  {
   "cell_type": "markdown",
   "id": "44551a46-edfe-4943-a11b-a0760444b692",
   "metadata": {},
   "source": [
    "## I. Introduction\n",
    "Video games have become a widespread form of entertainment, attracting millions of players across diverse demographics (Atske & Atske, 2024). Minecraft stands out as one of the most popular sandbox games, offering an open-ended world where players can build, explore, and interact (Cipollone, Schifter, & Moffat, 2014). In addition to being a popular game, Minecraft provides a rich source of behavioral data that can be leveraged for research in areas such as player engagement, user behavior analysis, and targeted marketing. \n",
    "\n",
    "In this project, we analyze gameplay data collected from a Minecraft research server hosted by a research group at the University of British Columbia (UBC). The group collected detailed logs of player behavior as participants interact with the game world. This data includes various features such as age, playtime, etc., and whether or not a player has subscribed to a newsletter related to the game. \n",
    "\n",
    "By applying data science techniques to this data, we aim to explore whether certain player characteristics can be used to predict whether a player subscribes to the game-related newsletter. The insights from this analysis can assist the research team in better understanding the factors that drive player engagement and inform future recruitment and resource allocation strategies. **Table 1.1** shows each of the variables in the player.csv dataset and what do they mean. "
   ]
  },
  {
   "cell_type": "markdown",
   "id": "09c8a010-4220-4f6b-86ea-89dbd290a54c",
   "metadata": {},
   "source": [
    "| Variable     | Type          | Description                                                                 |\n",
    "|--------------|---------------|-----------------------------------------------------------------------------|\n",
    "| Experience   | factor         | Experience level of player: beginner, amateur, regular, pro, veteran        |\n",
    "| subscribe    | logical        | Whether the player is subscribed (TRUE/FALSE)                               |\n",
    "| hashedEmail  | character      | Hashed email of player to protect privacy                                   |\n",
    "| played_hours | double         | Number of hours played by players                                           |\n",
    "| name         | character      | Name of the player                                                          |\n",
    "| gender       | factor         | Gender identity: agender, male, female, non-binary, two-spirited, prefer not to say |\n",
    "| Age          | double         | Age of the player in years                                                  |\n",
    "\n",
    "**Table 1.1**\n",
    "\n",
    "The table below shows a complete list of all the variables in the `player.csv` dataset used in this project."
   ]
  },
  {
   "cell_type": "markdown",
   "id": "9c3213c6-f1bb-4bb5-bc37-a67d6dfc8a7f",
   "metadata": {},
   "source": [
    "An additional dataset contains session-level start and end time but is not utilized in this analysis as the player experience provides sufficient information for addressing the research question. **Code 0.1** contains the libraries that will be used in this project and **Code 0.2** loads the data that will be analyzed. "
   ]
  },
  {
   "cell_type": "code",
   "execution_count": null,
   "id": "a1781a3a-2007-45e3-ba0d-fa31c4a22722",
   "metadata": {},
   "outputs": [],
   "source": [
    "#code 0.1\n",
    "#Some libraries to install\n",
    "library(repr)\n",
    "library(tidyverse)\n",
    "library(tidymodels)\n",
    "options(repr.matrix.max.rows = 10)\n",
    "\n",
    "# We need to set this seed so that all results in this notebook can be replicated\n",
    "set.seed(9999)"
   ]
  },
  {
   "cell_type": "code",
   "execution_count": null,
   "id": "bc117bba-03fd-45fd-8b86-b202aaf3eb7c",
   "metadata": {},
   "outputs": [],
   "source": [
    "#Code 0.2\n",
    "# install the data needed\n",
    "player_data = read_csv(\"players.csv\")\n",
    "player_data"
   ]
  },
  {
   "cell_type": "markdown",
   "id": "f60271b7-9ab4-460c-925e-28669653deed",
   "metadata": {},
   "source": [
    "### Data explorations"
   ]
  },
  {
   "cell_type": "code",
   "execution_count": null,
   "id": "cfc96ba8-be45-4754-97f7-6ead0d572ffc",
   "metadata": {},
   "outputs": [],
   "source": [
    "#Code 1.1\n",
    "#Lets explore relationships between hours played, age and whether they are subscibed to game newspaper\n",
    "options(repr.plot.height = 7, repr.plot.width = 10)\n",
    "player_plot = player_data |>\n",
    "    ggplot(aes(y = played_hours\t, x = Age, color = subscribe)) +\n",
    "    geom_point() +\n",
    "    labs(\n",
    "        title = \"Hours played Vs Age of Player\",\n",
    "        y = \"Hours played by player\",\n",
    "        x = \"Age of player (Years)\",\n",
    "        colour = \"Player is subscribed\" ) +\n",
    "    theme(text = element_text(size = 16), plot.title = element_text(hjust = 0.5))\n",
    "player_plot"
   ]
  },
  {
   "cell_type": "markdown",
   "id": "ac686a53-8478-48e8-8197-809a001ba1ec",
   "metadata": {},
   "source": [
    "**Figure 1.1**\n",
    "\n",
    "The plot above shows the relationship between the age of the player on the x-axis and the number of hours they have played Minecraft on the y-axis. Game-related newspaper subscriptions of each player are represented by the color of the points. Two datapoints are removed because the age of the player is unknown. "
   ]
  },
  {
   "cell_type": "markdown",
   "id": "86a98c7d-efc3-426b-b2a2-afe1219a6f34",
   "metadata": {},
   "source": [
    "The code above gave us a warning message indicating that there are 2 datapoints that have missing values or are out of range. In **code 1.15**, we show that these observations have unknown age and so were excluded from the ploting. One can see from **Figure 1.1** that most of the datapoints consist of players playing little to 0 hours in the game, making it difficult to make any inferences from the data. For this reason, the data was plotted on a logarithmic scale in **Figure 1.2** to magnify the subtleties in low values of hours played. "
   ]
  },
  {
   "cell_type": "code",
   "execution_count": null,
   "id": "02f63e65-63f1-4a24-9be7-41973a34ef8e",
   "metadata": {},
   "outputs": [],
   "source": [
    "#Code 1.15\n",
    "missing_values = player_data |>\n",
    "    filter(is.na(Age))\n",
    "missing_values"
   ]
  },
  {
   "cell_type": "markdown",
   "id": "e0f5ef79-01ea-4b2c-8200-7e0560db0b8c",
   "metadata": {},
   "source": [
    "**Figure 1.2**\n",
    "\n",
    "The scatter plot above shows the age of each player in the x-axis and the hours played on the y-axis but logarithmically scaled to show subtilities across different ranges. "
   ]
  },
  {
   "cell_type": "markdown",
   "id": "c2417f7a-6897-4c2c-98e0-98cd68a11401",
   "metadata": {},
   "source": [
    "There was a warning that the logarithmic transformation turned the some 0s to infinity but it looks like it did not affect the purpose of our visualization that much. All of the supposedly 'negatively infinite' values remained at the bottom of the graph. From Figure 1.2, it can be easily observed that there is no obvious pattern between hours played by the player and their age. Both variables also do not seem to be correlated with whether the players are subscribed or not. However, it is important to notice that everyone who played for 10 hours or more is subscribed to a game newspaper. Another observation we see is that most players are around 15 to 25 years old, indicating that Minecraft is popular among this demographic"
   ]
  },
  {
   "cell_type": "markdown",
   "id": "d2cade58-062d-4bdf-b70b-2812d48e5540",
   "metadata": {},
   "source": [
    "### II. Methods"
   ]
  },
  {
   "cell_type": "markdown",
   "id": "c6b7aa86-d54b-4696-9cca-43db67e88d59",
   "metadata": {},
   "source": [
    "The objective of this analysis is to find out which variables in the dataset are most predictive of the player's subscription to a game-related newspaper. We will start off by wrangling the data and giving the variables more appropriate labels. The data was first loaded and cleaned to retain only the relevant variables necessary for analysis. As shown in **Code 2.1**, we selected subscribe, played_hours, and Age from the original dataset. Since the classification model requires a categorical response variable, the subscribe column was converted into a factor. This ensured that the subsequent modeling functions would treat it appropriately as a classification target rather than a continuous variable. "
   ]
  },
  {
   "cell_type": "code",
   "execution_count": null,
   "id": "3b6ef2b6-6121-4747-88bb-efe5b69bcf5b",
   "metadata": {},
   "outputs": [],
   "source": [
    "#code 2.1\n",
    "player_data_clean = player_data |>\n",
    "    select(experience, subscribe, played_hours, gender, Age) |>\n",
    "    mutate(subscribe = as.factor(subscribe)) |>\n",
    "    mutate(experience = as.factor(experience)) |>\n",
    "    mutate(gender = as.factor(gender)) "
   ]
  },
  {
   "cell_type": "code",
   "execution_count": null,
   "id": "702395cf-1dbd-4557-ab4c-6bccedbde953",
   "metadata": {},
   "outputs": [],
   "source": []
  }
 ],
 "metadata": {
  "kernelspec": {
   "display_name": "R",
   "language": "R",
   "name": "ir"
  },
  "language_info": {
   "codemirror_mode": "r",
   "file_extension": ".r",
   "mimetype": "text/x-r-source",
   "name": "R",
   "pygments_lexer": "r",
   "version": "4.3.3"
  }
 },
 "nbformat": 4,
 "nbformat_minor": 5
}
